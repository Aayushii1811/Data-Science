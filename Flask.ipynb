{
 "cells": [
  {
   "cell_type": "code",
   "execution_count": null,
   "id": "5574c28d",
   "metadata": {},
   "outputs": [
    {
     "name": "stdout",
     "output_type": "stream",
     "text": [
      " * Serving Flask app \"__main__\" (lazy loading)\n",
      " * Environment: production\n",
      "\u001b[31m   WARNING: This is a development server. Do not use it in a production deployment.\u001b[0m\n",
      "\u001b[2m   Use a production WSGI server instead.\u001b[0m\n",
      " * Debug mode: off\n"
     ]
    },
    {
     "name": "stderr",
     "output_type": "stream",
     "text": [
      " * Running on all addresses.\n",
      "   WARNING: This is a development server. Do not use it in a production deployment.\n",
      " * Running on http://172.20.10.2:106/ (Press CTRL+C to quit)\n",
      "172.20.10.2 - - [01/May/2024 13:22:51] \"GET / HTTP/1.1\" 200 -\n",
      "172.20.10.2 - - [01/May/2024 13:22:59] \"GET /10/11/ HTTP/1.1\" 200 -\n"
     ]
    },
    {
     "name": "stdout",
     "output_type": "stream",
     "text": [
      "10 --- 11\n",
      "Output is  [5.]\n"
     ]
    }
   ],
   "source": [
    "from flask import Flask,jsonify,request\n",
    "import pickle\n",
    "\n",
    "app=Flask(__name__)\n",
    "\n",
    "@app.route('/')\n",
    "def hello():\n",
    "    return \"Hello World\"\n",
    "\n",
    "@app.route('/<int:x1>/<int:x2>/')\n",
    "def check(x1,x2):\n",
    "    print(x1,\"---\",x2)\n",
    "    \n",
    "    fp=open('LRmodel.pkl',\"rb\")\n",
    "    saved_model=pickle.load(fp)\n",
    "    predY=saved_model.predict([[x1,x2]])\n",
    "    \n",
    "    print(\"Output is \",predY)\n",
    "    return \"Y: \"+str(predY[0])\n",
    "\n",
    "\n",
    "\n",
    "app.run(host='0.0.0.0',port=106)"
   ]
  },
  {
   "cell_type": "code",
   "execution_count": 5,
   "id": "20cd4515",
   "metadata": {},
   "outputs": [
    {
     "name": "stdout",
     "output_type": "stream",
     "text": [
      "10 --- 11\n",
      "Output is  [5.]\n"
     ]
    },
    {
     "data": {
      "text/plain": [
       "'Y: 5.0'"
      ]
     },
     "execution_count": 5,
     "metadata": {},
     "output_type": "execute_result"
    }
   ],
   "source": [
    "def check(x1,x2):\n",
    "    print(x1,\"---\",x2)\n",
    "    \n",
    "    fp=open('LRmodel.pkl',\"rb\")\n",
    "    saved_model=pickle.load(fp)\n",
    "    predY=saved_model.predict([[x1,x2]])\n",
    "    \n",
    "    print(\"Output is \",predY)\n",
    "    return \"Y: \"+str(predY[0])\n",
    "\n",
    "check(10,11)"
   ]
  },
  {
   "cell_type": "code",
   "execution_count": null,
   "id": "c81e906c",
   "metadata": {},
   "outputs": [],
   "source": []
  },
  {
   "cell_type": "code",
   "execution_count": null,
   "id": "41a9f3b0",
   "metadata": {},
   "outputs": [],
   "source": []
  },
  {
   "cell_type": "code",
   "execution_count": null,
   "id": "ba497944",
   "metadata": {},
   "outputs": [],
   "source": []
  },
  {
   "cell_type": "code",
   "execution_count": null,
   "id": "9b0ae7e2",
   "metadata": {},
   "outputs": [],
   "source": []
  },
  {
   "cell_type": "code",
   "execution_count": null,
   "id": "d10adeee",
   "metadata": {},
   "outputs": [],
   "source": []
  }
 ],
 "metadata": {
  "kernelspec": {
   "display_name": "Python 3 (ipykernel)",
   "language": "python",
   "name": "python3"
  },
  "language_info": {
   "codemirror_mode": {
    "name": "ipython",
    "version": 3
   },
   "file_extension": ".py",
   "mimetype": "text/x-python",
   "name": "python",
   "nbconvert_exporter": "python",
   "pygments_lexer": "ipython3",
   "version": "3.9.13"
  }
 },
 "nbformat": 4,
 "nbformat_minor": 5
}
