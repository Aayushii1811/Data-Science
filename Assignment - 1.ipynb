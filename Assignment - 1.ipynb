{
 "cells": [
  {
   "cell_type": "code",
   "execution_count": 1,
   "id": "0ce7665d",
   "metadata": {},
   "outputs": [
    {
     "name": "stdout",
     "output_type": "stream",
     "text": [
      "2401\n"
     ]
    }
   ],
   "source": [
    "num=7\n",
    "p=7**4\n",
    "print(p)\n"
   ]
  },
  {
   "cell_type": "code",
   "execution_count": 2,
   "id": "59acad7d",
   "metadata": {},
   "outputs": [
    {
     "name": "stdout",
     "output_type": "stream",
     "text": [
      "['Hii', 'there', 'Sam!']\n"
     ]
    }
   ],
   "source": [
    "s='Hii there Sam!'\n",
    "s.split()\n",
    "print(s.split())\n"
   ]
  },
  {
   "cell_type": "code",
   "execution_count": 3,
   "id": "39e4d3a8",
   "metadata": {},
   "outputs": [
    {
     "name": "stdout",
     "output_type": "stream",
     "text": [
      "The diameter of Earth is 12742 kilometres.\n"
     ]
    }
   ],
   "source": [
    "planet='Earth'\n",
    "diameter='12742'\n",
    "planet.format()\n",
    "diameter.format()\n",
    "print(\"The diameter of\",planet.format(),\"is\",diameter.format(),\"kilometres.\")\n"
   ]
  },
  {
   "cell_type": "code",
   "execution_count": 4,
   "id": "ea184778",
   "metadata": {},
   "outputs": [
    {
     "name": "stdout",
     "output_type": "stream",
     "text": [
      "hello\n"
     ]
    }
   ],
   "source": [
    "lst=[1,2,[3,4],[5,[100,200,['hello']],23,11],1,7]\n",
    "def find_hello(lst):\n",
    "    for elem in lst:\n",
    "        if isinstance(elem,list):\n",
    "            find_hello(elem)\n",
    "        elif elem=='hello':\n",
    "            print(\"hello\")\n",
    "find_hello(lst)\n"
   ]
  },
  {
   "cell_type": "code",
   "execution_count": 5,
   "id": "0a384268",
   "metadata": {},
   "outputs": [
    {
     "name": "stdout",
     "output_type": "stream",
     "text": [
      "hello\n"
     ]
    }
   ],
   "source": [
    "d={'k1':[1,2,3,{'tricky':['oh','man','inception',{'target':[1,2,3,'hello']}]}]}\n",
    "hello_word=d['k1'][3]['tricky'][3]['target'][3]\n",
    "print(hello_word)\n"
   ]
  },
  {
   "cell_type": "code",
   "execution_count": 6,
   "id": "36940213",
   "metadata": {},
   "outputs": [
    {
     "name": "stdout",
     "output_type": "stream",
     "text": [
      "domain.com\n"
     ]
    }
   ],
   "source": [
    "def domainGet(email):\n",
    "    return email.split('@')[-1]\n",
    "print(domainGet('user@domain.com'))\n"
   ]
  },
  {
   "cell_type": "code",
   "execution_count": 7,
   "id": "eaee7c82",
   "metadata": {},
   "outputs": [
    {
     "name": "stdout",
     "output_type": "stream",
     "text": [
      "True\n"
     ]
    }
   ],
   "source": [
    "def findDog(st):\n",
    "    return 'dog' in st.lower().split()\n",
    "print(findDog('Is there a dog here?'))\n"
   ]
  },
  {
   "cell_type": "code",
   "execution_count": 8,
   "id": "edc96a87",
   "metadata": {},
   "outputs": [
    {
     "name": "stdout",
     "output_type": "stream",
     "text": [
      "['soup', 'salad']\n"
     ]
    }
   ],
   "source": [
    "seq = ['soup','dog','salad','cat','great']\n",
    "print(list(filter(lambda word: word[0]=='s',seq)))\n"
   ]
  },
  {
   "cell_type": "code",
   "execution_count": 9,
   "id": "8dd73933",
   "metadata": {},
   "outputs": [
    {
     "name": "stdout",
     "output_type": "stream",
     "text": [
      "Small Ticket\n",
      "Big Ticket\n"
     ]
    }
   ],
   "source": [
    "def caught_speeding(speed, is_birthday):\n",
    "    \n",
    "    if is_birthday:\n",
    "        speeding = speed - 5\n",
    "    else:\n",
    "        speeding = speed\n",
    "    \n",
    "    if speeding > 80:\n",
    "        return 'Big Ticket'\n",
    "    elif speeding > 60:\n",
    "        return 'Small Ticket'\n",
    "    else:\n",
    "        return 'No Ticket'\n",
    "print(caught_speeding(81,True))    \n",
    "print(caught_speeding(81,False))\n",
    "\n"
   ]
  },
  {
   "cell_type": "code",
   "execution_count": 19,
   "id": "55c994a7",
   "metadata": {},
   "outputs": [
    {
     "name": "stdout",
     "output_type": "stream",
     "text": [
      "Enter employee ID: 110\n",
      "Enter employee name: Aayushi\n",
      "Enter basic salary: 5000\n",
      "Enter years of experience: 18\n",
      "\n",
      "Employee Details:\n",
      "Employee ID: 110\n",
      "Employee Name: Aayushi\n",
      "Basic Salary: 5000.0\n",
      "Experience (in years): 18\n",
      "\n",
      "Calculated Components:\n",
      "HRA: 1750.0\n",
      "DA: 2900.0\n",
      "PF: 475.0\n",
      "Bonus: 2250.0\n",
      "\n",
      "Net Salary: 12375.0\n"
     ]
    }
   ],
   "source": [
    "class Employee:\n",
    "    def _init_(self):\n",
    "        self.empid = None\n",
    "        self.name = None\n",
    "        self.basic_salary = None\n",
    "        self.experience_years = None\n",
    "        self.hra = None\n",
    "        self.da = None\n",
    "        self.pf = None\n",
    "        self.bonus = None\n",
    "        self.net_salary = None\n",
    "\n",
    "    \n",
    "    def get_empid(self):\n",
    "        return self.empid\n",
    "\n",
    "    def set_empid(self, empid):\n",
    "        self.empid = empid\n",
    "\n",
    "    def get_name(self):\n",
    "        return self.name\n",
    "\n",
    "    def set_name(self, name):\n",
    "        self.name = name\n",
    "\n",
    "    def get_basic_salary(self):\n",
    "        return self.basic_salary\n",
    "\n",
    "    def set_basic_salary(self, basic_salary):\n",
    "        self.basic_salary = basic_salary\n",
    "\n",
    "    def get_experience_years(self):\n",
    "        return self.experience_years\n",
    "\n",
    "    def set_experience_years(self, experience_years):\n",
    "        self.experience_years = experience_years\n",
    "    \n",
    "    def calculate_hra(self):\n",
    "        self.hra = 0.35 * self.basic_salary\n",
    "\n",
    "    def calculate_da(self):\n",
    "        self.da = 0.58 * self.basic_salary\n",
    "\n",
    "    def calculate_pf(self):\n",
    "        self.pf = 0.095 * self.basic_salary\n",
    "\n",
    "    def calculate_bonus(self):\n",
    "        if self.experience_years >= 30:\n",
    "            self.bonus = 0.59 * self.basic_salary\n",
    "        elif self.experience_years >= 23:\n",
    "            self.bonus = 0.51 * self.basic_salary\n",
    "        elif self.experience_years >= 15:\n",
    "            self.bonus = 0.45 * self.basic_salary\n",
    "        elif self.experience_years >= 7:\n",
    "            self.bonus = 0.33 * self.basic_salary\n",
    "        else:\n",
    "            self.bonus = 0.16 * self.basic_salary\n",
    "\n",
    "    def calculate_net_salary(self):\n",
    "        self.net_salary = (\n",
    "            self.basic_salary + self.hra + self.da + self.pf + self.bonus\n",
    "        )\n",
    "\n",
    "\n",
    "\n",
    "def main():\n",
    "    employee = Employee()\n",
    "\n",
    "    \n",
    "    employee.set_empid(input(\"Enter employee ID: \"))\n",
    "    employee.set_name(input(\"Enter employee name: \"))\n",
    "    employee.set_basic_salary(float(input(\"Enter basic salary: \")))\n",
    "    employee.set_experience_years(int(input(\"Enter years of experience: \")))\n",
    "\n",
    "    \n",
    "    employee.calculate_hra()\n",
    "    employee.calculate_da()\n",
    "    employee.calculate_pf()\n",
    "    employee.calculate_bonus()\n",
    "    employee.calculate_net_salary()\n",
    "\n",
    "    \n",
    "    print(\"\\nEmployee Details:\")\n",
    "    print(\"Employee ID:\", employee.get_empid())\n",
    "    print(\"Employee Name:\", employee.get_name())\n",
    "    print(\"Basic Salary:\", employee.get_basic_salary())\n",
    "    print(\"Experience (in years):\", employee.get_experience_years())\n",
    "\n",
    "    print(\"\\nCalculated Components:\")\n",
    "    print(\"HRA:\", employee.hra)\n",
    "    print(\"DA:\", employee.da)\n",
    "    print(\"PF:\", employee.pf)\n",
    "    print(\"Bonus:\", employee.bonus)\n",
    "\n",
    "    print(\"\\nNet Salary:\", employee.net_salary)\n",
    "\n",
    "\n",
    "if __name__ == \"__main__\":\n",
    "   main()\n"
   ]
  },
  {
   "cell_type": "code",
   "execution_count": 26,
   "id": "65fc8b27",
   "metadata": {},
   "outputs": [
    {
     "name": "stdout",
     "output_type": "stream",
     "text": [
      "How many numbers do you want to enter: 8\n",
      "Enter 8 numbers:\n",
      "1\n",
      "2\n",
      "3\n",
      "4\n",
      "5\n",
      "6\n",
      "7\n",
      "8\n",
      "The final tuple is: (9.0,)\n"
     ]
    }
   ],
   "source": [
    "class SumList:\n",
    "    def __init__(self):\n",
    "        self.numbers = []\n",
    "\n",
    "    def input_numbers(self, n):\n",
    "        print(\"Enter {} numbers:\".format(n))\n",
    "        for _ in range(n):\n",
    "            number = float(input())\n",
    "            self.numbers.append(number)\n",
    "\n",
    "    def process_sums(self):\n",
    "        newlist = []\n",
    "        if len(self.numbers) == 8:\n",
    "            for i in range(4):\n",
    "                newlist.append(self.numbers[i] + self.numbers[7 - i])\n",
    "        return newlist\n",
    "\n",
    "    def remove_duplicates(self, lst):\n",
    "        return tuple(set(lst))\n",
    "\n",
    "    def display(self, tpl):\n",
    "        print(\"The final tuple is:\", tpl)\n",
    "\n",
    "\n",
    "def main():\n",
    "    sum_list = SumList()\n",
    "    n = int(input(\"How many numbers do you want to enter: \"))\n",
    "    sum_list.input_numbers(n)\n",
    "\n",
    "    if n == 8:\n",
    "        result_list = sum_list.process_sums()\n",
    "        final_tuple = sum_list.remove_duplicates(result_list)\n",
    "        sum_list.display(final_tuple)\n",
    "    else:\n",
    "        print(\"The specific operation requires 8 numbers. Try again with 8 numbers.\")\n",
    "\n",
    "if __name__ == \"__main__\":\n",
    " main()"
   ]
  },
  {
   "cell_type": "code",
   "execution_count": 1,
   "id": "c99b01c8",
   "metadata": {},
   "outputs": [
    {
     "name": "stdout",
     "output_type": "stream",
     "text": [
      "Enter the number=5\n",
      "Enter the number=7\n",
      "Number is 5\n",
      "Number is 7\n",
      "Addition is 12\n",
      "Power is 78125\n",
      "Concatenation is 57\n",
      "Max number is 7\n",
      "Min number is 5\n"
     ]
    }
   ],
   "source": [
    "class addition:\n",
    "    def __init__(self):\n",
    "        self.num1 = None\n",
    "        self.num2 = None\n",
    "        self.num3 = None\n",
    "        \n",
    "    def get_num1(self):\n",
    "        return self.num1\n",
    "    def set_num1(self,num1):\n",
    "        self.num1 = num1\n",
    "    def get_num2(self):\n",
    "        return self.num2\n",
    "    def set_num2(self,num2):\n",
    "        self.num2 = num2\n",
    "    def get_num3(self):\n",
    "        return self.num3\n",
    "    def set_num3(self):\n",
    "        self.num3 = self.num1+self.num2\n",
    "    def get_num4(self):\n",
    "        return self.num4\n",
    "    def set_num4(self):\n",
    "        self.num4 = self.num1**self.num2\n",
    "    def get_num5(self):\n",
    "        return self.num5\n",
    "    def set_num5(self):\n",
    "        self.num5 = int(str(self.num1)+str(self.num2))\n",
    "    def get_num6(self):\n",
    "        return self.num6\n",
    "    def set_num6(self):\n",
    "        self.num6 = max(self.num1,self.num2)\n",
    "    def get_num7(self):\n",
    "         return self.num7\n",
    "    def set_num7(self):\n",
    "         self.num7 = min(self.num1,self.num2)\n",
    "    \n",
    "    \n",
    "        \n",
    "def main():\n",
    "        number = addition()\n",
    "    \n",
    "        number.set_num1(int(input(\"Enter the number=\")))\n",
    "        number.set_num2(int(input(\"Enter the number=\")))\n",
    "           \n",
    "        number.set_num3() \n",
    "        number.set_num4() \n",
    "        number.set_num5() \n",
    "        number.set_num6() \n",
    "        number.set_num7() \n",
    "       \n",
    "        \n",
    "       \n",
    "       \n",
    "        print(\"Number is\",number.get_num1())\n",
    "        print(\"Number is\",number.get_num2())\n",
    "        print(\"Addition is\",number.get_num3())\n",
    "        print(\"Power is\",number.get_num4())\n",
    "        print(\"Concatenation is\",number.get_num5())\n",
    "        print(\"Max number is\",number.get_num6())\n",
    "        print(\"Min number is\",number.get_num7())\n",
    "        \n",
    "        \n",
    "if __name__ == \"__main__\":\n",
    "           main()\n"
   ]
  },
  {
   "cell_type": "code",
   "execution_count": 1,
   "id": "f5e75e1b",
   "metadata": {},
   "outputs": [
    {
     "name": "stdout",
     "output_type": "stream",
     "text": [
      "Enter the id12345\n",
      "Student id is 12345 name Diksha email address Dikshar@nuv.ac.in\n",
      "Enter the nameHeena\n",
      "Student id is 69433 name Heena email address Heena@nuv.ac.in\n"
     ]
    }
   ],
   "source": [
    "data=[\n",
    "    (12345,\"Diksha\",\"Dikshar@nuv.ac.in\"),\n",
    "    (45667,\"Jiva\",\"Jiva@nuv.ac.in\"),\n",
    "    (16789,\"Ronit\",\"Ronit@nuv.ac.in\"),\n",
    "    (69433,\"Heena\",\"Heena@nuv.ac.in\") \n",
    "     ]    \n",
    "def searchId(uid):\n",
    "    for tup in data:\n",
    "        if tup[0]==uid:\n",
    "            sid=tup[0]\n",
    "            sname=tup[1]\n",
    "            semail=tup[2]\n",
    "            print(f'Student id is {sid} name {sname} email address {semail}')\n",
    "uid=int(input(\"Enter the id\"))\n",
    "searchId(uid)\n",
    "def searchname(uname):\n",
    "    for tup in data:\n",
    "        if tup[1]==uname:\n",
    "            sid=tup[0]\n",
    "            sname=tup[1]\n",
    "            semail=tup[2]\n",
    "            print(f'Student id is {sid} name {sname} email address {semail}')\n",
    "uname=input(\"Enter the name\")\n",
    "searchname(uname)\n"
   ]
  },
  {
   "cell_type": "code",
   "execution_count": 12,
   "id": "f9013712",
   "metadata": {},
   "outputs": [
    {
     "name": "stdout",
     "output_type": "stream",
     "text": [
      "Enter the id45667\n",
      "Student id is 45667 name Jiva email address Jiva@nuv.ac.in\n"
     ]
    }
   ],
   "source": [
    "Mydict={\"Enrollment Id\":[12345,45667,16789,69433],\n",
    "        \"Student Name\": [\"Diksha\",\"Jiva\",\"Ronit\",\"Heena\"\"Jiva@nuv.ac.in\"],\n",
    "        \"Email Id\": [\"Dikshar@nuv.ac.in\",\"Jiva@nuv.ac.in\",\"Ronit@nuv.ac.in\",\"Heena@nuv.ac.in\"]\n",
    "       }\n",
    "def searchId(uid):\n",
    "    for tup in data:\n",
    "        if tup[0]==uid:\n",
    "            sid=tup[0]\n",
    "            sname=tup[1]\n",
    "            semail=tup[2]\n",
    "            print(f'Student id is {sid} name {sname} email address {semail}')\n",
    "uid=int(input(\"Enter the id\"))\n",
    "searchId(uid)"
   ]
  },
  {
   "cell_type": "code",
   "execution_count": 32,
   "id": "e3363177",
   "metadata": {},
   "outputs": [
    {
     "name": "stdout",
     "output_type": "stream",
     "text": [
      "Enrollment Id  Student Name   Email Id       \n",
      "12345           Diksha               Dikshar@nuv.ac.in             \n",
      "45667           Jiva                 Jiva@nuv.ac.in                \n",
      "16789           Ronit                Ronit@nuv.ac.in               \n",
      "69433           Heena                Heena@nuv.ac.in               \n"
     ]
    }
   ],
   "source": [
    "data = [\n",
    "        (12345, \"Diksha\", \"Dikshar@nuv.ac.in\"),\n",
    "        (45667, \"Jiva\", \"Jiva@nuv.ac.in\"),\n",
    "        (16789, \"Ronit\", \"Ronit@nuv.ac.in\"),\n",
    "        (69433, \"Heena\", \"Heena@nuv.ac.in\")\n",
    "    ]\n",
    "\n",
    "final_dict = {\"Enrollment Id\": [], \"Student Name\": [], \"Email Id\": []}\n",
    "\n",
    "for j in data:\n",
    "        final_dict[\"Enrollment Id\"].append(j[0])\n",
    "        final_dict[\"Student Name\"].append(j[1])\n",
    "        final_dict[\"Email Id\"].append(j[2])\n",
    "final_dict\n",
    "print(f\"{'Enrollment Id':<15}{'Student Name':<15}{'Email Id':<15}\")\n",
    "for i in range(len(final_dict[\"Enrollment Id\"])):\n",
    "    enrollment_id=final_dict[\"Enrollment Id\"][i]\n",
    "    student_name=final_dict[\"Student Name\"][i]\n",
    "    email_id=final_dict[\"Email Id\"][i]\n",
    "    print(\"{:<15} {:<20} {:<30}\".format(enrollment_id,student_name,email_id))\n",
    "    \n"
   ]
  },
  {
   "cell_type": "code",
   "execution_count": 9,
   "id": "fb5f27b3",
   "metadata": {
    "scrolled": true
   },
   "outputs": [
    {
     "name": "stdout",
     "output_type": "stream",
     "text": [
      "\n",
      "Menu:\n",
      "1. Add Student\n",
      "2. Update Student\n",
      "3. Delete Student\n",
      "4. Display Students\n",
      "5. Exit\n",
      "Enter your choice: 2\n",
      "Enter Enrollment No to update: 1234\n",
      "Enter updated Student Name: Aayushiii\n",
      "Enter updated Contact Number: 92813671829765\n",
      "Student details updated successfully!\n",
      "\n",
      "Menu:\n",
      "1. Add Student\n",
      "2. Update Student\n",
      "3. Delete Student\n",
      "4. Display Students\n",
      "5. Exit\n",
      "Enter your choice: 5\n",
      "Exiting the program.\n"
     ]
    }
   ],
   "source": [
    "import json\n",
    "\n",
    "class StudentManager:\n",
    "    def __init__(self):\n",
    "        self.students = {}\n",
    "        self.load_data()\n",
    "\n",
    "    def load_data(self):\n",
    "        try:\n",
    "            with open(\"students.json\", \"r\") as fr:\n",
    "                self.students = json.load(fr)\n",
    "        except FileNotFoundError:\n",
    "            # Create an empty dictionary if the file doesn't exist\n",
    "            self.students = {}\n",
    "\n",
    "    def save_data(self):\n",
    "        with open(\"students.json\", \"w\") as fw:\n",
    "            jsndata = json.dumps(self.students, indent=2)\n",
    "            fw.write(jsndata)\n",
    "\n",
    "    def add_student(self, enrollment_no, student_name, contact_number):\n",
    "        self.students[enrollment_no] = {\n",
    "            \"StudentName\": student_name,\n",
    "            \"ContactNumber\": contact_number\n",
    "        }\n",
    "        self.save_data()\n",
    "        print(\"Student added successfully!\")\n",
    "\n",
    "    def update_student(self, enrollment_no, student_name, contact_number):\n",
    "        if enrollment_no in self.students:\n",
    "            self.students[enrollment_no][\"StudentName\"] = student_name\n",
    "            self.students[enrollment_no][\"ContactNumber\"] = contact_number\n",
    "            self.save_data()\n",
    "            print(\"Student details updated successfully!\")\n",
    "        else:\n",
    "            print(\"Student not found!\")\n",
    "\n",
    "    def delete_student(self, enrollment_no):\n",
    "        if enrollment_no in self.students:\n",
    "            del self.students[enrollment_no]\n",
    "            self.save_data()\n",
    "            print(\"Student deleted successfully!\")\n",
    "        else:\n",
    "            print(\"Student not found!\")\n",
    "\n",
    "    def display_students(self):\n",
    "        if not self.students:\n",
    "            print(\"No student records available.\")\n",
    "        else:\n",
    "            for enrollment_no, details in self.students.items():\n",
    "                print(f\"Enrollment No: {enrollment_no}\")\n",
    "                print(f\"Student Name: {details['StudentName']}\")\n",
    "                print(f\"Contact Number: {details['ContactNumber']}\")\n",
    "                print(\"-\" * 30)\n",
    "\n",
    "def main():\n",
    "    student_manager = StudentManager()\n",
    "\n",
    "    while True:\n",
    "        print(\"\\nMenu:\")\n",
    "        print(\"1. Add Student\")\n",
    "        print(\"2. Update Student\")\n",
    "        print(\"3. Delete Student\")\n",
    "        print(\"4. Display Students\")\n",
    "        print(\"5. Exit\")\n",
    "\n",
    "        choice = input(\"Enter your choice: \")\n",
    "\n",
    "        if choice == '1':\n",
    "            enrollment_no = input(\"Enter Enrollment No: \")\n",
    "            student_name = input(\"Enter Student Name: \")\n",
    "            contact_number = input(\"Enter Contact Number: \")\n",
    "            student_manager.add_student(enrollment_no, student_name, contact_number)\n",
    "\n",
    "        elif choice == '2':\n",
    "            enrollment_no = input(\"Enter Enrollment No to update: \")\n",
    "            student_name = input(\"Enter updated Student Name: \")\n",
    "            contact_number = input(\"Enter updated Contact Number: \")\n",
    "            student_manager.update_student(enrollment_no, student_name, contact_number)\n",
    "\n",
    "        elif choice == '3':\n",
    "            enrollment_no = input(\"Enter Enrollment No to delete: \")\n",
    "            student_manager.delete_student(enrollment_no)\n",
    "\n",
    "        elif choice == '4':\n",
    "            student_manager.display_students()\n",
    "\n",
    "        elif choice == '5':\n",
    "            print(\"Exiting the program.\")\n",
    "            break\n",
    "\n",
    "        else:\n",
    "            print(\"Invalid choice. Please enter a valid option.\")\n",
    "\n",
    "if __name__ == \"__main__\":\n",
    "    main()\n"
   ]
  },
  {
   "cell_type": "code",
   "execution_count": null,
   "id": "c3ca617d",
   "metadata": {},
   "outputs": [],
   "source": [
    "import csv\n",
    "\n",
    "def read_csv(file_path):\n",
    "    states = {}\n",
    "\n",
    "    with open(file_path, 'r') as file:\n",
    "        csv_reader = csv.reader(file)\n",
    "        next(csv_reader)  # Skip the header row\n",
    "\n",
    "        for row in csv_reader:\n",
    "            state_id = row[0]  # Keep state ID as a string\n",
    "            state_name = row[1]\n",
    "            population = int(row[2])\n",
    "            universities = int(row[3])\n",
    "\n",
    "            states[state_id] = {\n",
    "                \"name\": state_name,\n",
    "                \"population\": population,\n",
    "                \"no_of_uni\": universities\n",
    "            }\n",
    "\n",
    "    return states\n",
    "\n",
    "# Assuming your data.csv file is in the current working directory\n",
    "file_path = 'data.csv'\n",
    "states_data = read_csv(file_path)\n",
    "\n",
    "# Print the constructed dictionary\n",
    "for state_id, state_info in states_data.items():\n",
    "    print(f\"{state_id}: {state_info}\")\n"
   ]
  }
 ],
 "metadata": {
  "kernelspec": {
   "display_name": "Python 3 (ipykernel)",
   "language": "python",
   "name": "python3"
  },
  "language_info": {
   "codemirror_mode": {
    "name": "ipython",
    "version": 3
   },
   "file_extension": ".py",
   "mimetype": "text/x-python",
   "name": "python",
   "nbconvert_exporter": "python",
   "pygments_lexer": "ipython3",
   "version": "3.9.13"
  }
 },
 "nbformat": 4,
 "nbformat_minor": 5
}
